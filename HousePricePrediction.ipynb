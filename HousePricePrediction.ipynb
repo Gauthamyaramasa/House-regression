{
  "nbformat": 4,
  "nbformat_minor": 0,
  "metadata": {
    "colab": {
      "provenance": []
    },
    "kernelspec": {
      "name": "python3",
      "display_name": "Python 3"
    },
    "language_info": {
      "name": "python"
    }
  },
  "cells": [
    {
      "cell_type": "markdown",
      "source": [
        "## HOUSE PRICE PREDICTION USING LINEAR REGRESSION"
      ],
      "metadata": {
        "id": "FR4-QqLOg4d5"
      }
    },
    {
      "cell_type": "code",
      "source": [
        "#Importing Libraries\n",
        "import numpy as np\n",
        "import pandas as pd\n",
        "import matplotlib.pyplot as plt "
      ],
      "metadata": {
        "id": "692DZ3goT67a"
      },
      "execution_count": 74,
      "outputs": []
    },
    {
      "cell_type": "code",
      "source": [
        "#Impoerting the Datasets\n",
        "df = pd.read_csv(\"House-Price-Prediction-clean.csv\")\n",
        "df.drop(['Id'],axis=1,inplace=True)\n",
        "df"
      ],
      "metadata": {
        "id": "-UUt_PXAULgc"
      },
      "execution_count": null,
      "outputs": []
    },
    {
      "cell_type": "code",
      "source": [
        "#Assigning the x and y variables\n",
        "x = df.iloc[:, :-1].values\n",
        "y = df.iloc[:,-1].values"
      ],
      "metadata": {
        "id": "1JHgdb4wUeUw"
      },
      "execution_count": 55,
      "outputs": []
    },
    {
      "cell_type": "code",
      "source": [
        "#splitting the datasets\n",
        "from sklearn.model_selection import train_test_split\n",
        "x_train,x_test,y_train,y_test = train_test_split(x,y,test_size=0.15,random_state=10000)"
      ],
      "metadata": {
        "id": "sgZQbsm9UynI"
      },
      "execution_count": 70,
      "outputs": []
    },
    {
      "cell_type": "code",
      "source": [
        "#Linear regression\n",
        "from sklearn.linear_model import LinearRegression\n",
        "from sklearn.metrics import r2_score\n",
        "model=LinearRegression()\n",
        "model.fit(x_train,y_train)\n",
        "y_pred=model.predict(x_test)\n",
        "#Predicting the accuracy score\n",
        "score=r2_score(y_test,y_pred)\n",
        "print(score)"
      ],
      "metadata": {
        "id": "7aZli64BYtL-"
      },
      "execution_count": null,
      "outputs": []
    },
    {
      "cell_type": "code",
      "source": [
        "#Polotting the Linear Regression\n",
        "plt.scatter(y_test,y_pred)\n",
        "plt.xlabel('Actual Prices')\n",
        "plt.ylabel('Predicted Prices')\n",
        "plt.title('House Price Prediction')\n",
        "m,b=np.polyfit(y_test,y_pred,1)\n",
        "plt.plot(y_test,m*y_test+b,color='red')\n",
        "plt.legend(['Actual vs Predicted','Reression Line'])\n",
        "plt.show()"
      ],
      "metadata": {
        "id": "NKiYeVa_Zc9D"
      },
      "execution_count": null,
      "outputs": []
    },
    {
      "cell_type": "code",
      "source": [
        "#Printing Actual vs Predicted values\n",
        "pd.DataFrame({'actual':y_test,'predict':y_pred})"
      ],
      "metadata": {
        "id": "XYdCRf36bpSc"
      },
      "execution_count": null,
      "outputs": []
    }
  ]
}